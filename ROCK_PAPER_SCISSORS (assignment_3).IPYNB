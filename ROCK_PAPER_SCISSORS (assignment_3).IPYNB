{
 "cells": [
  {
   "cell_type": "code",
   "execution_count": 9,
   "metadata": {},
   "outputs": [
    {
     "name": "stdout",
     "output_type": "stream",
     "text": [
      "Player choose paper and lost against scissor\n",
      "The game is a tie\n",
      "Player choose rock and won against scissor\n"
     ]
    }
   ],
   "source": [
    "def result_win():\n",
    "    print(f'Player choose {player} and won against {comp}')\n",
    "    \n",
    "def result_lose():\n",
    "    print(f'Player choose {player} and lost against {comp}')\n",
    "\n",
    "\n",
    "from random import randint\n",
    "\n",
    "game = [\"rock\", \"paper\", \"scissor\"]\n",
    "comp = game[randint(0, 2)]\n",
    "count = 1\n",
    "\n",
    "try:\n",
    "    z = int(input(\"How many times do you want to play? \"))\n",
    "except ValueError:\n",
    "    print(\"Invalid input. Please enter a valid number.\")\n",
    "\n",
    "while count <= z:\n",
    "    try:\n",
    "        inp = input(\"Choose either rock, paper, or scissor: \")\n",
    "        player  = inp.lower()\n",
    "    except KeyboardInterrupt:\n",
    "        print(\"Game interrupted. Exiting...\")\n",
    "        break\n",
    "\n",
    "    if player == comp:\n",
    "        print(\"The game is a tie\")\n",
    "        \n",
    "        \n",
    "    elif player == \"rock\":\n",
    "        \n",
    "        if comp == \"paper\":\n",
    "            result_lose()\n",
    "        else:\n",
    "            result_win()\n",
    "            \n",
    "            \n",
    "    elif player == \"paper\":\n",
    "        \n",
    "        if comp == \"scissor\":\n",
    "            result_lose()\n",
    "        else:\n",
    "            result_win()\n",
    "            \n",
    "            \n",
    "    elif player == \"scissor\":\n",
    "        \n",
    "        if comp == \"rock\":\n",
    "            result_lose()\n",
    "        else:\n",
    "            result_win()\n",
    "            \n",
    "            \n",
    "    else:\n",
    "        print(\"Invalid choice. Please choose rock, paper, or scissor\")\n",
    "\n",
    "    comp = game[randint(0, 2)]\n",
    "    count += 1\n",
    "\n",
    "\n"
   ]
  },
  {
   "cell_type": "code",
   "execution_count": null,
   "metadata": {},
   "outputs": [],
   "source": []
  }
 ],
 "metadata": {
  "kernelspec": {
   "display_name": "Python 3",
   "language": "python",
   "name": "python3"
  },
  "language_info": {
   "codemirror_mode": {
    "name": "ipython",
    "version": 3
   },
   "file_extension": ".py",
   "mimetype": "text/x-python",
   "name": "python",
   "nbconvert_exporter": "python",
   "pygments_lexer": "ipython3",
   "version": "3.11.4"
  },
  "orig_nbformat": 4
 },
 "nbformat": 4,
 "nbformat_minor": 2
}
